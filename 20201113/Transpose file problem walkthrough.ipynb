{
 "cells": [
  {
   "cell_type": "markdown",
   "metadata": {},
   "source": [
    "# Transpose file\n",
    "https://leetcode.com/problems/transpose-file/"
   ]
  },
  {
   "cell_type": "code",
   "execution_count": 15,
   "metadata": {},
   "outputs": [
    {
     "name": "stdout",
     "output_type": "stream",
     "text": [
      "name age\n",
      "alice 21\n",
      "ryan 30\n"
     ]
    }
   ],
   "source": [
    "with open(\"file.txt\", 'r') as f:\n",
    "    text = f.read()\n",
    "print(text)"
   ]
  },
  {
   "cell_type": "code",
   "execution_count": 16,
   "metadata": {},
   "outputs": [
    {
     "data": {
      "text/plain": [
       "['name age', 'alice 21', 'ryan 30']"
      ]
     },
     "execution_count": 16,
     "metadata": {},
     "output_type": "execute_result"
    }
   ],
   "source": [
    "text.split('\\n')"
   ]
  },
  {
   "cell_type": "code",
   "execution_count": 17,
   "metadata": {},
   "outputs": [
    {
     "name": "stdout",
     "output_type": "stream",
     "text": [
      "['name', 'age']\n",
      "['alice', '21']\n",
      "['ryan', '30']\n"
     ]
    }
   ],
   "source": [
    "lines = text.split('\\n')\n",
    "for line in lines:\n",
    "    print(line.split(\" \"))"
   ]
  },
  {
   "cell_type": "code",
   "execution_count": 19,
   "metadata": {},
   "outputs": [
    {
     "data": {
      "text/plain": [
       "[['name', 'age'], ['alice', '21'], ['ryan', '30']]"
      ]
     },
     "execution_count": 19,
     "metadata": {},
     "output_type": "execute_result"
    }
   ],
   "source": [
    "list_of_lists = list()\n",
    "for line in lines:\n",
    "     list_of_lists.append(line.split(\" \"))\n",
    "\n",
    "list_of_lists"
   ]
  },
  {
   "cell_type": "markdown",
   "metadata": {},
   "source": [
    "Need to have in result: `[['name', 'alice', 'ryan'], ['age', '21', '30']]`"
   ]
  },
  {
   "cell_type": "code",
   "execution_count": 21,
   "metadata": {},
   "outputs": [
    {
     "name": "stdout",
     "output_type": "stream",
     "text": [
      "name\n",
      "alice\n",
      "ryan\n",
      "\n",
      "\n",
      "age\n",
      "21\n",
      "30\n",
      "\n",
      "\n"
     ]
    }
   ],
   "source": [
    "for word_index in range(len(list_of_lists[0])):\n",
    "    for line in list_of_lists:\n",
    "        print(line[word_index])\n",
    "    print(\"\\n\")"
   ]
  },
  {
   "cell_type": "markdown",
   "metadata": {},
   "source": [
    "- `list_of_lists[0]` - first line in the file\n",
    "- `len()` returns the length of the list\n",
    "- `range(n)` returns the sequence of numbers from 0 to `n - 1`"
   ]
  },
  {
   "cell_type": "code",
   "execution_count": 25,
   "metadata": {},
   "outputs": [
    {
     "name": "stdout",
     "output_type": "stream",
     "text": [
      "0\n",
      "1\n",
      "2\n",
      "3\n",
      "4\n",
      "5\n",
      "6\n",
      "7\n",
      "8\n",
      "9\n"
     ]
    }
   ],
   "source": [
    "for i in range(10):\n",
    "    print(i)"
   ]
  },
  {
   "cell_type": "markdown",
   "metadata": {},
   "source": [
    "- `+=` replaces updating the previous variable value explicitly:  "
   ]
  },
  {
   "cell_type": "code",
   "execution_count": 35,
   "metadata": {},
   "outputs": [
    {
     "name": "stdout",
     "output_type": "stream",
     "text": [
      "Add new word to the empty string:\n",
      "new word \n",
      "Add new word to the existing string:\n",
      "new word new word \n"
     ]
    }
   ],
   "source": [
    "print(\"Add new word to the empty string:\")\n",
    "result = \"\" # empty string\n",
    "result = result + \"new word \"\n",
    "print(result)\n",
    "\n",
    "print(\"Add new word to the existing string:\")\n",
    "result += \"new word \" # same operation as above, but shorter code\n",
    "print(result)"
   ]
  },
  {
   "cell_type": "code",
   "execution_count": null,
   "metadata": {},
   "outputs": [],
   "source": [
    "# Result: merge it all in one function - not tested yet :)\n",
    "def transpose(s):\n",
    "    \"\"\"\n",
    "    s (str) - input text to transpose.\n",
    "    output (str) - text to write\n",
    "    \"\"\"\n",
    "    result = \"\" \n",
    "    list_of_lines = s.split(\"\\n\")\n",
    "    for word_index in range(len(list_of_lists[0])):\n",
    "        for line in list_of_lists:\n",
    "            result += (line[word_index] + \" \")\n",
    "        result += \"\\n\"\n",
    "    return result"
   ]
  },
  {
   "cell_type": "markdown",
   "metadata": {},
   "source": [
    "### Tips:\n",
    "- Name your variables in a way that helps anyone understand quickly what it means and sometimes what datatype it is\n",
    "- Use `with open()` instead of `open()`\n",
    "- sometimes it's possible to squeeze a for-loop into one-liner (list comprehension):"
   ]
  },
  {
   "cell_type": "code",
   "execution_count": 27,
   "metadata": {},
   "outputs": [
    {
     "data": {
      "text/plain": [
       "[0, 1, 4, 9, 16, 25, 36, 49, 64, 81]"
      ]
     },
     "execution_count": 27,
     "metadata": {},
     "output_type": "execute_result"
    }
   ],
   "source": [
    "result = [i**2 for i in range(10)]\n",
    "result"
   ]
  },
  {
   "cell_type": "code",
   "execution_count": 28,
   "metadata": {},
   "outputs": [
    {
     "data": {
      "text/plain": [
       "[0, 1, 4, 9, 16, 25, 36, 49, 64, 81]"
      ]
     },
     "execution_count": 28,
     "metadata": {},
     "output_type": "execute_result"
    }
   ],
   "source": [
    "result = list()\n",
    "for i in range(10):\n",
    "    result.append(i**2)\n",
    "result # same result but with different amount of code"
   ]
  },
  {
   "cell_type": "markdown",
   "metadata": {},
   "source": [
    "Why use `with open()` instead of `open()`?\n",
    "- `with open()` ensures the cleanup - it closes the file if it’s opened. What for? If you open a lot of huge files it might be a burden for the memory."
   ]
  },
  {
   "cell_type": "code",
   "execution_count": 3,
   "metadata": {},
   "outputs": [
    {
     "data": {
      "text/plain": [
       "'Hello!'"
      ]
     },
     "execution_count": 3,
     "metadata": {},
     "output_type": "execute_result"
    }
   ],
   "source": [
    "with open(\"filename.txt\", 'w') as f: # w mode is for writing\n",
    "    f.write(\"Hello!\")\n",
    "    \n",
    "with open(\"filename.txt\", 'r') as f: # w mode is for writing\n",
    "    text = f.read()\n",
    "\n",
    "text"
   ]
  },
  {
   "cell_type": "markdown",
   "metadata": {},
   "source": [
    "`split()` - method applied to strings. Parameter is a separator to split the string:"
   ]
  },
  {
   "cell_type": "code",
   "execution_count": 11,
   "metadata": {},
   "outputs": [
    {
     "name": "stdout",
     "output_type": "stream",
     "text": [
      "We\n",
      "now\n",
      "support\n",
      "14\n",
      "popular\n",
      "coding\n",
      "languages.\n",
      "At\n",
      "our\n",
      "core,\n",
      "LeetCode\n",
      "is\n",
      "about\n",
      "developers.\n",
      "Our\n",
      "powerful\n",
      "development\n",
      "tools\n",
      "such\n",
      "as\n",
      "Playground\n",
      "help\n",
      "you\n",
      "test,\n",
      "debug\n",
      "and\n",
      "even\n",
      "write\n",
      "your\n",
      "own\n",
      "projects\n",
      "online.\n"
     ]
    }
   ],
   "source": [
    "s = \"\"\"We now support 14 popular coding languages. At our core, LeetCode is about developers. Our powerful development tools such as Playground help you test, debug and even write your own projects online.\"\"\"\n",
    "words = s.split(\" \") # it's a list now\n",
    "for word in words:\n",
    "    print(word)"
   ]
  },
  {
   "cell_type": "code",
   "execution_count": 12,
   "metadata": {},
   "outputs": [
    {
     "data": {
      "text/plain": [
       "'We now support 14 popular coding languages. At our core'"
      ]
     },
     "execution_count": 12,
     "metadata": {},
     "output_type": "execute_result"
    }
   ],
   "source": [
    "s.split(\",\")[0]"
   ]
  },
  {
   "cell_type": "markdown",
   "metadata": {},
   "source": [
    "Nas' solution:"
   ]
  },
  {
   "cell_type": "code",
   "execution_count": null,
   "metadata": {},
   "outputs": [],
   "source": [
    "def transpose_file(self, file_path):\n",
    "    with open(file_path, 'r') as f:\n",
    "        content = [s.strip().split(\" \") for s in f.readlines()]\n",
    "    with open('result2.txt', 'a') as fl:\n",
    "        for col in range(len(content[0])):\n",
    "            for row in range(len(content)):\n",
    "                fl.write(content[row][col] + ' ')\n",
    "            fl.write(\"\\n\")"
   ]
  }
 ],
 "metadata": {
  "kernelspec": {
   "display_name": "Python 3",
   "language": "python",
   "name": "python3"
  },
  "language_info": {
   "codemirror_mode": {
    "name": "ipython",
    "version": 3
   },
   "file_extension": ".py",
   "mimetype": "text/x-python",
   "name": "python",
   "nbconvert_exporter": "python",
   "pygments_lexer": "ipython3",
   "version": "3.7.6"
  }
 },
 "nbformat": 4,
 "nbformat_minor": 4
}
