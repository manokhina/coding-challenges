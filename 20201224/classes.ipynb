{
 "cells": [
  {
   "cell_type": "code",
   "execution_count": 10,
   "metadata": {},
   "outputs": [
    {
     "data": {
      "text/plain": [
       "'white'"
      ]
     },
     "execution_count": 10,
     "metadata": {},
     "output_type": "execute_result"
    }
   ],
   "source": [
    "class Cat:\n",
    "    def __init__(self): # class constructor method\n",
    "        self.colour = \"white\" # default colour, attribute\n",
    "        self.breed = None\n",
    "    \n",
    "    def meow(self): # method\n",
    "        print(\"meow\")\n",
    "\n",
    "my_cat = Cat()\n",
    "my_cat.colour"
   ]
  },
  {
   "cell_type": "code",
   "execution_count": 4,
   "metadata": {},
   "outputs": [],
   "source": [
    "my_cat.breed"
   ]
  },
  {
   "cell_type": "code",
   "execution_count": 9,
   "metadata": {},
   "outputs": [
    {
     "name": "stdout",
     "output_type": "stream",
     "text": [
      "meow\n"
     ]
    }
   ],
   "source": [
    "my_cat.meow()"
   ]
  },
  {
   "cell_type": "code",
   "execution_count": 12,
   "metadata": {},
   "outputs": [],
   "source": [
    "class MenuItem:\n",
    "    \"\"\"Models each Menu Item.\"\"\"\n",
    "    def __init__(self, name, water, milk, coffee, cost):\n",
    "        self.name = name\n",
    "        self.cost = cost\n",
    "        self.ingredients = {\n",
    "            \"water\": water,\n",
    "            \"milk\": milk,\n",
    "            \"coffee\": coffee\n",
    "        }\n",
    "\n",
    "\n",
    "class Menu:\n",
    "    \"\"\"Models the Menu with drinks.\"\"\"\n",
    "    def __init__(self):\n",
    "        self.menu = [\n",
    "            MenuItem(name=\"latte\", water=200, milk=150, coffee=24, cost=2.5),\n",
    "            MenuItem(name=\"espresso\", water=50, milk=0, coffee=18, cost=1.5),\n",
    "            MenuItem(name=\"cappuccino\", water=250, milk=50, coffee=24, cost=3),\n",
    "        ]\n",
    "\n",
    "    def get_items(self):\n",
    "        \"\"\"Returns all the names of the available menu items\"\"\"\n",
    "        options = \"\"\n",
    "        for item in self.menu:\n",
    "            options += f\"{item.name}/\"\n",
    "        return options\n",
    "\n",
    "    def find_drink(self, order_name):\n",
    "        \"\"\"Searches the menu for a particular drink by name. Returns that item if it exists, otherwise returns None\"\"\"\n",
    "        for item in self.menu:\n",
    "            if item.name == order_name:\n",
    "                return item\n",
    "        print(\"Sorry that item is not available.\")\n"
   ]
  },
  {
   "cell_type": "code",
   "execution_count": 13,
   "metadata": {},
   "outputs": [],
   "source": [
    "menu = Menu()"
   ]
  },
  {
   "cell_type": "code",
   "execution_count": 19,
   "metadata": {},
   "outputs": [],
   "source": [
    "menu_items = menu.menu # list"
   ]
  },
  {
   "cell_type": "code",
   "execution_count": 20,
   "metadata": {},
   "outputs": [
    {
     "name": "stdout",
     "output_type": "stream",
     "text": [
      "latte 2.5 {'water': 200, 'milk': 150, 'coffee': 24}\n",
      "espresso 1.5 {'water': 50, 'milk': 0, 'coffee': 18}\n",
      "cappuccino 3 {'water': 250, 'milk': 50, 'coffee': 24}\n"
     ]
    }
   ],
   "source": [
    "for item in menu_items:\n",
    "    # each item is an instance of MenuItem class\n",
    "    print(item.name, item.cost, item.ingredients)"
   ]
  },
  {
   "cell_type": "code",
   "execution_count": 22,
   "metadata": {},
   "outputs": [
    {
     "name": "stdout",
     "output_type": "stream",
     "text": [
      "The amount of milk in latte is: 150 ml\n"
     ]
    }
   ],
   "source": [
    "for item in menu_items:\n",
    "    # each item is an instance of MenuItem class\n",
    "    if item.name == \"latte\":\n",
    "        latte_milk = item.ingredients[\"milk\"]\n",
    "        print(f\"The amount of milk in latte is: {latte_milk} ml\")"
   ]
  },
  {
   "cell_type": "code",
   "execution_count": 24,
   "metadata": {},
   "outputs": [],
   "source": [
    "americano = MenuItem(name=\"americano\",\n",
    "                     water=200,\n",
    "                     milk=0,\n",
    "                     coffee=50,\n",
    "                     cost=2)"
   ]
  },
  {
   "cell_type": "code",
   "execution_count": 25,
   "metadata": {},
   "outputs": [
    {
     "data": {
      "text/plain": [
       "'americano'"
      ]
     },
     "execution_count": 25,
     "metadata": {},
     "output_type": "execute_result"
    }
   ],
   "source": [
    "americano.name"
   ]
  },
  {
   "cell_type": "code",
   "execution_count": 26,
   "metadata": {},
   "outputs": [
    {
     "data": {
      "text/plain": [
       "3"
      ]
     },
     "execution_count": 26,
     "metadata": {},
     "output_type": "execute_result"
    }
   ],
   "source": [
    "len(menu.menu)"
   ]
  },
  {
   "cell_type": "code",
   "execution_count": 27,
   "metadata": {},
   "outputs": [
    {
     "data": {
      "text/plain": [
       "list"
      ]
     },
     "execution_count": 27,
     "metadata": {},
     "output_type": "execute_result"
    }
   ],
   "source": [
    "type(menu.menu)"
   ]
  },
  {
   "cell_type": "code",
   "execution_count": 28,
   "metadata": {},
   "outputs": [],
   "source": [
    "menu.menu.append(americano)"
   ]
  },
  {
   "cell_type": "code",
   "execution_count": 29,
   "metadata": {},
   "outputs": [
    {
     "data": {
      "text/plain": [
       "4"
      ]
     },
     "execution_count": 29,
     "metadata": {},
     "output_type": "execute_result"
    }
   ],
   "source": [
    "len(menu.menu)"
   ]
  },
  {
   "cell_type": "code",
   "execution_count": 30,
   "metadata": {},
   "outputs": [
    {
     "name": "stdout",
     "output_type": "stream",
     "text": [
      "latte 2.5 {'water': 200, 'milk': 150, 'coffee': 24}\n",
      "espresso 1.5 {'water': 50, 'milk': 0, 'coffee': 18}\n",
      "cappuccino 3 {'water': 250, 'milk': 50, 'coffee': 24}\n",
      "americano 2 {'water': 200, 'milk': 0, 'coffee': 50}\n"
     ]
    }
   ],
   "source": [
    "for item in menu_items:\n",
    "    # each item is an instance of MenuItem class\n",
    "    print(item.name, item.cost, item.ingredients)"
   ]
  }
 ],
 "metadata": {
  "kernelspec": {
   "display_name": "Python 3",
   "language": "python",
   "name": "python3"
  },
  "language_info": {
   "codemirror_mode": {
    "name": "ipython",
    "version": 3
   },
   "file_extension": ".py",
   "mimetype": "text/x-python",
   "name": "python",
   "nbconvert_exporter": "python",
   "pygments_lexer": "ipython3",
   "version": "3.7.6"
  }
 },
 "nbformat": 4,
 "nbformat_minor": 4
}
